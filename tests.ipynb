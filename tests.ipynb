{
 "cells": [
  {
   "cell_type": "code",
   "execution_count": 72,
   "id": "bbd1d6ff",
   "metadata": {},
   "outputs": [],
   "source": [
    "import os\n",
    "import cv2\n",
    "import matplotlib.pyplot as plt\n",
    "\n",
    "img_array = []\n",
    "\n",
    "path_original = 'data/vids/juguete-turbio/gs/'\n",
    "path_output = 'data/output/juguete-turbio/'\n",
    "\n",
    "for filename in sorted(os.listdir(path_original)):\n",
    "    img = cv2.imread(path_original+filename)\n",
    "    if img is not None:\n",
    "        height, width, layers = img.shape\n",
    "        size = (width,height)\n",
    "        img_array.append(img)"
   ]
  },
  {
   "cell_type": "code",
   "execution_count": 73,
   "id": "79846fd9",
   "metadata": {},
   "outputs": [
    {
     "data": {
      "text/plain": [
       "['.DS_Store']"
      ]
     },
     "execution_count": 73,
     "metadata": {},
     "output_type": "execute_result"
    }
   ],
   "source": [
    "sorted(os.listdir(path_original))"
   ]
  },
  {
   "cell_type": "code",
   "execution_count": 62,
   "id": "a2983d92",
   "metadata": {},
   "outputs": [],
   "source": [
    "out = cv2.VideoWriter('videos/hola_original.avi',cv2.VideoWriter_fourcc(*'DIVX'), 40.0, size)"
   ]
  },
  {
   "cell_type": "code",
   "execution_count": 63,
   "id": "296f0105",
   "metadata": {},
   "outputs": [],
   "source": [
    "for img in img_array:\n",
    "    out.write(img)\n",
    "out.release()"
   ]
  },
  {
   "cell_type": "code",
   "execution_count": 66,
   "id": "bed96779",
   "metadata": {},
   "outputs": [],
   "source": [
    "import os\n",
    "import cv2\n",
    "import matplotlib.pyplot as plt\n",
    "\n",
    "path_original = 'data/vids/juguete-turbio/'\n",
    "path_output = 'data/output/juguete-turbio/gs/'\n",
    "\n",
    "img_array = []\n",
    "\n",
    "for filename in sorted(os.listdir(path_original)):\n",
    "    img = cv2.imread(path_original+filename)\n",
    "    if img is not None:\n",
    "        height, width, layers = img.shape\n",
    "        size = (width,height)\n",
    "        img_array.append(img)\n",
    "\n",
    "out = cv2.VideoWriter('videos/original_gs.avi',cv2.VideoWriter_fourcc(*'DIVX'), 40.0, size)\n",
    "\n",
    "for img in img_array:\n",
    "    out.write(img)\n",
    "out.release()"
   ]
  },
  {
   "cell_type": "code",
   "execution_count": 74,
   "id": "0b0508f2",
   "metadata": {},
   "outputs": [],
   "source": [
    "import glob"
   ]
  },
  {
   "cell_type": "code",
   "execution_count": 81,
   "id": "f38517ae",
   "metadata": {},
   "outputs": [
    {
     "data": {
      "text/plain": [
       "['data/vids/juguete-turbio/gs/10.png',\n",
       " 'data/vids/juguete-turbio/gs/100.png',\n",
       " 'data/vids/juguete-turbio/gs/101.png',\n",
       " 'data/vids/juguete-turbio/gs/102.png',\n",
       " 'data/vids/juguete-turbio/gs/103.png',\n",
       " 'data/vids/juguete-turbio/gs/104.png',\n",
       " 'data/vids/juguete-turbio/gs/105.png',\n",
       " 'data/vids/juguete-turbio/gs/106.png',\n",
       " 'data/vids/juguete-turbio/gs/107.png',\n",
       " 'data/vids/juguete-turbio/gs/108.png',\n",
       " 'data/vids/juguete-turbio/gs/109.png',\n",
       " 'data/vids/juguete-turbio/gs/11.png',\n",
       " 'data/vids/juguete-turbio/gs/110.png',\n",
       " 'data/vids/juguete-turbio/gs/111.png',\n",
       " 'data/vids/juguete-turbio/gs/112.png',\n",
       " 'data/vids/juguete-turbio/gs/113.png',\n",
       " 'data/vids/juguete-turbio/gs/114.png',\n",
       " 'data/vids/juguete-turbio/gs/115.png',\n",
       " 'data/vids/juguete-turbio/gs/116.png',\n",
       " 'data/vids/juguete-turbio/gs/117.png',\n",
       " 'data/vids/juguete-turbio/gs/118.png',\n",
       " 'data/vids/juguete-turbio/gs/119.png',\n",
       " 'data/vids/juguete-turbio/gs/12.png',\n",
       " 'data/vids/juguete-turbio/gs/120.png',\n",
       " 'data/vids/juguete-turbio/gs/121.png',\n",
       " 'data/vids/juguete-turbio/gs/122.png',\n",
       " 'data/vids/juguete-turbio/gs/123.png',\n",
       " 'data/vids/juguete-turbio/gs/124.png',\n",
       " 'data/vids/juguete-turbio/gs/125.png',\n",
       " 'data/vids/juguete-turbio/gs/126.png',\n",
       " 'data/vids/juguete-turbio/gs/127.png',\n",
       " 'data/vids/juguete-turbio/gs/128.png',\n",
       " 'data/vids/juguete-turbio/gs/129.png',\n",
       " 'data/vids/juguete-turbio/gs/13.png',\n",
       " 'data/vids/juguete-turbio/gs/130.png',\n",
       " 'data/vids/juguete-turbio/gs/131.png',\n",
       " 'data/vids/juguete-turbio/gs/132.png',\n",
       " 'data/vids/juguete-turbio/gs/133.png',\n",
       " 'data/vids/juguete-turbio/gs/134.png',\n",
       " 'data/vids/juguete-turbio/gs/135.png',\n",
       " 'data/vids/juguete-turbio/gs/136.png',\n",
       " 'data/vids/juguete-turbio/gs/137.png',\n",
       " 'data/vids/juguete-turbio/gs/138.png',\n",
       " 'data/vids/juguete-turbio/gs/139.png',\n",
       " 'data/vids/juguete-turbio/gs/14.png',\n",
       " 'data/vids/juguete-turbio/gs/140.png',\n",
       " 'data/vids/juguete-turbio/gs/141.png',\n",
       " 'data/vids/juguete-turbio/gs/142.png',\n",
       " 'data/vids/juguete-turbio/gs/143.png',\n",
       " 'data/vids/juguete-turbio/gs/144.png',\n",
       " 'data/vids/juguete-turbio/gs/145.png',\n",
       " 'data/vids/juguete-turbio/gs/15.png',\n",
       " 'data/vids/juguete-turbio/gs/16.png',\n",
       " 'data/vids/juguete-turbio/gs/17.png',\n",
       " 'data/vids/juguete-turbio/gs/18.png',\n",
       " 'data/vids/juguete-turbio/gs/19.png',\n",
       " 'data/vids/juguete-turbio/gs/2.png',\n",
       " 'data/vids/juguete-turbio/gs/20.png',\n",
       " 'data/vids/juguete-turbio/gs/21.png',\n",
       " 'data/vids/juguete-turbio/gs/22.png',\n",
       " 'data/vids/juguete-turbio/gs/23.png',\n",
       " 'data/vids/juguete-turbio/gs/24.png',\n",
       " 'data/vids/juguete-turbio/gs/25.png',\n",
       " 'data/vids/juguete-turbio/gs/26.png',\n",
       " 'data/vids/juguete-turbio/gs/27.png',\n",
       " 'data/vids/juguete-turbio/gs/28.png',\n",
       " 'data/vids/juguete-turbio/gs/29.png',\n",
       " 'data/vids/juguete-turbio/gs/3.png',\n",
       " 'data/vids/juguete-turbio/gs/30.png',\n",
       " 'data/vids/juguete-turbio/gs/31.png',\n",
       " 'data/vids/juguete-turbio/gs/32.png',\n",
       " 'data/vids/juguete-turbio/gs/33.png',\n",
       " 'data/vids/juguete-turbio/gs/34.png',\n",
       " 'data/vids/juguete-turbio/gs/35.png',\n",
       " 'data/vids/juguete-turbio/gs/36.png',\n",
       " 'data/vids/juguete-turbio/gs/37.png',\n",
       " 'data/vids/juguete-turbio/gs/38.png',\n",
       " 'data/vids/juguete-turbio/gs/39.png',\n",
       " 'data/vids/juguete-turbio/gs/4.png',\n",
       " 'data/vids/juguete-turbio/gs/40.png',\n",
       " 'data/vids/juguete-turbio/gs/41.png',\n",
       " 'data/vids/juguete-turbio/gs/42.png',\n",
       " 'data/vids/juguete-turbio/gs/43.png',\n",
       " 'data/vids/juguete-turbio/gs/44.png',\n",
       " 'data/vids/juguete-turbio/gs/45.png',\n",
       " 'data/vids/juguete-turbio/gs/46.png',\n",
       " 'data/vids/juguete-turbio/gs/47.png',\n",
       " 'data/vids/juguete-turbio/gs/48.png',\n",
       " 'data/vids/juguete-turbio/gs/49.png',\n",
       " 'data/vids/juguete-turbio/gs/5.png',\n",
       " 'data/vids/juguete-turbio/gs/50.png',\n",
       " 'data/vids/juguete-turbio/gs/51.png',\n",
       " 'data/vids/juguete-turbio/gs/52.png',\n",
       " 'data/vids/juguete-turbio/gs/53.png',\n",
       " 'data/vids/juguete-turbio/gs/54.png',\n",
       " 'data/vids/juguete-turbio/gs/55.png',\n",
       " 'data/vids/juguete-turbio/gs/56.png',\n",
       " 'data/vids/juguete-turbio/gs/57.png',\n",
       " 'data/vids/juguete-turbio/gs/58.png',\n",
       " 'data/vids/juguete-turbio/gs/59.png',\n",
       " 'data/vids/juguete-turbio/gs/6.png',\n",
       " 'data/vids/juguete-turbio/gs/60.png',\n",
       " 'data/vids/juguete-turbio/gs/61.png',\n",
       " 'data/vids/juguete-turbio/gs/62.png',\n",
       " 'data/vids/juguete-turbio/gs/63.png',\n",
       " 'data/vids/juguete-turbio/gs/64.png',\n",
       " 'data/vids/juguete-turbio/gs/65.png',\n",
       " 'data/vids/juguete-turbio/gs/66.png',\n",
       " 'data/vids/juguete-turbio/gs/67.png',\n",
       " 'data/vids/juguete-turbio/gs/68.png',\n",
       " 'data/vids/juguete-turbio/gs/69.png',\n",
       " 'data/vids/juguete-turbio/gs/7.png',\n",
       " 'data/vids/juguete-turbio/gs/70.png',\n",
       " 'data/vids/juguete-turbio/gs/71.png',\n",
       " 'data/vids/juguete-turbio/gs/72.png',\n",
       " 'data/vids/juguete-turbio/gs/73.png',\n",
       " 'data/vids/juguete-turbio/gs/74.png',\n",
       " 'data/vids/juguete-turbio/gs/75.png',\n",
       " 'data/vids/juguete-turbio/gs/76.png',\n",
       " 'data/vids/juguete-turbio/gs/77.png',\n",
       " 'data/vids/juguete-turbio/gs/78.png',\n",
       " 'data/vids/juguete-turbio/gs/79.png',\n",
       " 'data/vids/juguete-turbio/gs/8.png',\n",
       " 'data/vids/juguete-turbio/gs/80.png',\n",
       " 'data/vids/juguete-turbio/gs/81.png',\n",
       " 'data/vids/juguete-turbio/gs/82.png',\n",
       " 'data/vids/juguete-turbio/gs/83.png',\n",
       " 'data/vids/juguete-turbio/gs/84.png',\n",
       " 'data/vids/juguete-turbio/gs/85.png',\n",
       " 'data/vids/juguete-turbio/gs/86.png',\n",
       " 'data/vids/juguete-turbio/gs/87.png',\n",
       " 'data/vids/juguete-turbio/gs/88.png',\n",
       " 'data/vids/juguete-turbio/gs/89.png',\n",
       " 'data/vids/juguete-turbio/gs/9.png',\n",
       " 'data/vids/juguete-turbio/gs/90.png',\n",
       " 'data/vids/juguete-turbio/gs/91.png',\n",
       " 'data/vids/juguete-turbio/gs/92.png',\n",
       " 'data/vids/juguete-turbio/gs/93.png',\n",
       " 'data/vids/juguete-turbio/gs/94.png',\n",
       " 'data/vids/juguete-turbio/gs/95.png',\n",
       " 'data/vids/juguete-turbio/gs/96.png',\n",
       " 'data/vids/juguete-turbio/gs/97.png',\n",
       " 'data/vids/juguete-turbio/gs/98.png',\n",
       " 'data/vids/juguete-turbio/gs/99.png']"
      ]
     },
     "execution_count": 81,
     "metadata": {},
     "output_type": "execute_result"
    }
   ],
   "source": [
    "sorted(glob.glob(path_original+'*.png'))"
   ]
  },
  {
   "cell_type": "code",
   "execution_count": 83,
   "id": "2ddf887a",
   "metadata": {},
   "outputs": [],
   "source": [
    "import PIL"
   ]
  },
  {
   "cell_type": "code",
   "execution_count": 89,
   "id": "c1c7fd10",
   "metadata": {},
   "outputs": [
    {
     "ename": "KeyboardInterrupt",
     "evalue": "",
     "output_type": "error",
     "traceback": [
      "\u001b[0;31m---------------------------------------------------------------------------\u001b[0m",
      "\u001b[0;31mAttributeError\u001b[0m                            Traceback (most recent call last)",
      "File \u001b[0;32m/opt/miniconda3/envs/compi/lib/python3.9/site-packages/PIL/ImageFile.py:495\u001b[0m, in \u001b[0;36m_save\u001b[0;34m(im, fp, tile, bufsize)\u001b[0m\n\u001b[1;32m    494\u001b[0m \u001b[38;5;28;01mtry\u001b[39;00m:\n\u001b[0;32m--> 495\u001b[0m     fh \u001b[38;5;241m=\u001b[39m \u001b[43mfp\u001b[49m\u001b[38;5;241;43m.\u001b[39;49m\u001b[43mfileno\u001b[49m()\n\u001b[1;32m    496\u001b[0m     fp\u001b[38;5;241m.\u001b[39mflush()\n",
      "\u001b[0;31mAttributeError\u001b[0m: '_idat' object has no attribute 'fileno'",
      "\nDuring handling of the above exception, another exception occurred:\n",
      "\u001b[0;31mKeyboardInterrupt\u001b[0m                         Traceback (most recent call last)",
      "Input \u001b[0;32mIn [89]\u001b[0m, in \u001b[0;36m<cell line: 1>\u001b[0;34m()\u001b[0m\n\u001b[1;32m      2\u001b[0m \u001b[38;5;28;01mif\u001b[39;00m filename\u001b[38;5;241m.\u001b[39mendswith(\u001b[38;5;124m\"\u001b[39m\u001b[38;5;124m.png\u001b[39m\u001b[38;5;124m\"\u001b[39m):\n\u001b[1;32m      4\u001b[0m     frame \u001b[38;5;241m=\u001b[39m PIL\u001b[38;5;241m.\u001b[39mImage\u001b[38;5;241m.\u001b[39mopen(path\u001b[38;5;241m+\u001b[39mfilename)\n\u001b[0;32m----> 5\u001b[0m     \u001b[43mframe\u001b[49m\u001b[38;5;241;43m.\u001b[39;49m\u001b[43msave\u001b[49m\u001b[43m(\u001b[49m\u001b[38;5;124;43m'\u001b[39;49m\u001b[38;5;124;43mhola.png\u001b[39;49m\u001b[38;5;124;43m'\u001b[39;49m\u001b[43m)\u001b[49m\n",
      "File \u001b[0;32m/opt/miniconda3/envs/compi/lib/python3.9/site-packages/PIL/Image.py:2212\u001b[0m, in \u001b[0;36mImage.save\u001b[0;34m(self, fp, format, **params)\u001b[0m\n\u001b[1;32m   2209\u001b[0m         fp \u001b[38;5;241m=\u001b[39m builtins\u001b[38;5;241m.\u001b[39mopen(filename, \u001b[38;5;124m\"\u001b[39m\u001b[38;5;124mw+b\u001b[39m\u001b[38;5;124m\"\u001b[39m)\n\u001b[1;32m   2211\u001b[0m \u001b[38;5;28;01mtry\u001b[39;00m:\n\u001b[0;32m-> 2212\u001b[0m     \u001b[43msave_handler\u001b[49m\u001b[43m(\u001b[49m\u001b[38;5;28;43mself\u001b[39;49m\u001b[43m,\u001b[49m\u001b[43m \u001b[49m\u001b[43mfp\u001b[49m\u001b[43m,\u001b[49m\u001b[43m \u001b[49m\u001b[43mfilename\u001b[49m\u001b[43m)\u001b[49m\n\u001b[1;32m   2213\u001b[0m \u001b[38;5;28;01mfinally\u001b[39;00m:\n\u001b[1;32m   2214\u001b[0m     \u001b[38;5;66;03m# do what we can to clean up\u001b[39;00m\n\u001b[1;32m   2215\u001b[0m     \u001b[38;5;28;01mif\u001b[39;00m open_fp:\n",
      "File \u001b[0;32m/opt/miniconda3/envs/compi/lib/python3.9/site-packages/PIL/PngImagePlugin.py:1348\u001b[0m, in \u001b[0;36m_save\u001b[0;34m(im, fp, filename, chunk, save_all)\u001b[0m\n\u001b[1;32m   1346\u001b[0m     _write_multiple_frames(im, fp, chunk, rawmode)\n\u001b[1;32m   1347\u001b[0m \u001b[38;5;28;01melse\u001b[39;00m:\n\u001b[0;32m-> 1348\u001b[0m     \u001b[43mImageFile\u001b[49m\u001b[38;5;241;43m.\u001b[39;49m\u001b[43m_save\u001b[49m\u001b[43m(\u001b[49m\u001b[43mim\u001b[49m\u001b[43m,\u001b[49m\u001b[43m \u001b[49m\u001b[43m_idat\u001b[49m\u001b[43m(\u001b[49m\u001b[43mfp\u001b[49m\u001b[43m,\u001b[49m\u001b[43m \u001b[49m\u001b[43mchunk\u001b[49m\u001b[43m)\u001b[49m\u001b[43m,\u001b[49m\u001b[43m \u001b[49m\u001b[43m[\u001b[49m\u001b[43m(\u001b[49m\u001b[38;5;124;43m\"\u001b[39;49m\u001b[38;5;124;43mzip\u001b[39;49m\u001b[38;5;124;43m\"\u001b[39;49m\u001b[43m,\u001b[49m\u001b[43m \u001b[49m\u001b[43m(\u001b[49m\u001b[38;5;241;43m0\u001b[39;49m\u001b[43m,\u001b[49m\u001b[43m \u001b[49m\u001b[38;5;241;43m0\u001b[39;49m\u001b[43m)\u001b[49m\u001b[43m \u001b[49m\u001b[38;5;241;43m+\u001b[39;49m\u001b[43m \u001b[49m\u001b[43mim\u001b[49m\u001b[38;5;241;43m.\u001b[39;49m\u001b[43msize\u001b[49m\u001b[43m,\u001b[49m\u001b[43m \u001b[49m\u001b[38;5;241;43m0\u001b[39;49m\u001b[43m,\u001b[49m\u001b[43m \u001b[49m\u001b[43mrawmode\u001b[49m\u001b[43m)\u001b[49m\u001b[43m]\u001b[49m\u001b[43m)\u001b[49m\n\u001b[1;32m   1350\u001b[0m \u001b[38;5;28;01mif\u001b[39;00m info:\n\u001b[1;32m   1351\u001b[0m     \u001b[38;5;28;01mfor\u001b[39;00m info_chunk \u001b[38;5;129;01min\u001b[39;00m info\u001b[38;5;241m.\u001b[39mchunks:\n",
      "File \u001b[0;32m/opt/miniconda3/envs/compi/lib/python3.9/site-packages/PIL/ImageFile.py:509\u001b[0m, in \u001b[0;36m_save\u001b[0;34m(im, fp, tile, bufsize)\u001b[0m\n\u001b[1;32m    507\u001b[0m \u001b[38;5;28;01melse\u001b[39;00m:\n\u001b[1;32m    508\u001b[0m     \u001b[38;5;28;01mwhile\u001b[39;00m \u001b[38;5;28;01mTrue\u001b[39;00m:\n\u001b[0;32m--> 509\u001b[0m         l, s, d \u001b[38;5;241m=\u001b[39m \u001b[43me\u001b[49m\u001b[38;5;241;43m.\u001b[39;49m\u001b[43mencode\u001b[49m\u001b[43m(\u001b[49m\u001b[43mbufsize\u001b[49m\u001b[43m)\u001b[49m\n\u001b[1;32m    510\u001b[0m         fp\u001b[38;5;241m.\u001b[39mwrite(d)\n\u001b[1;32m    511\u001b[0m         \u001b[38;5;28;01mif\u001b[39;00m s:\n",
      "\u001b[0;31mKeyboardInterrupt\u001b[0m: "
     ]
    }
   ],
   "source": [
    "for filename in sorted(os.listdir('data/vids/juguete-turbio/')):\n",
    "        if filename.endswith(\".png\"):\n",
    "\n",
    "            frame = PIL.Image.open(path+filename)\n",
    "            frame.save('hola.png')\n",
    "            "
   ]
  },
  {
   "cell_type": "code",
   "execution_count": null,
   "id": "7d3c4465",
   "metadata": {},
   "outputs": [],
   "source": []
  }
 ],
 "metadata": {
  "kernelspec": {
   "display_name": "Python 3 (ipykernel)",
   "language": "python",
   "name": "python3"
  },
  "language_info": {
   "codemirror_mode": {
    "name": "ipython",
    "version": 3
   },
   "file_extension": ".py",
   "mimetype": "text/x-python",
   "name": "python",
   "nbconvert_exporter": "python",
   "pygments_lexer": "ipython3",
   "version": "3.9.7"
  },
  "latex_envs": {
   "LaTeX_envs_menu_present": true,
   "autoclose": false,
   "autocomplete": true,
   "bibliofile": "biblio.bib",
   "cite_by": "apalike",
   "current_citInitial": 1,
   "eqLabelWithNumbers": true,
   "eqNumInitial": 1,
   "hotkeys": {
    "equation": "Ctrl-E",
    "itemize": "Ctrl-I"
   },
   "labels_anchors": false,
   "latex_user_defs": false,
   "report_style_numbering": false,
   "user_envs_cfg": false
  }
 },
 "nbformat": 4,
 "nbformat_minor": 5
}
